{
  "nbformat": 4,
  "nbformat_minor": 0,
  "metadata": {
    "colab": {
      "provenance": []
    },
    "kernelspec": {
      "name": "python3",
      "display_name": "Python 3"
    },
    "language_info": {
      "name": "python"
    }
  },
  "cells": [
    {
      "cell_type": "code",
      "execution_count": null,
      "metadata": {
        "id": "F44GWdzcZcDW"
      },
      "outputs": [],
      "source": [
        "### Python OOPs Questions"
      ]
    },
    {
      "cell_type": "markdown",
      "source": [
        "Q.1.What is Object-Oriented Programming (OOP)?\n",
        "\n",
        "Object-Oriented Programming (OOP) is a programming paradigm based on the concept of \"objects\", which are instances of classes. It helps organize and structure code by grouping related data and behaviors together.\n",
        "\n",
        ">> Key Concepts of OOP:\n",
        "\n",
        ">Class\n",
        "\n",
        "A blueprint for creating objects. It defines attributes (data) and methods (functions) that objects created from the class will have.\n",
        "\n",
        "\n",
        "    class Car:\n",
        "     def __init__(self, brand):\n",
        "        self.brand = brand\n",
        ">Object\n",
        "\n",
        "An instance of a class. It represents a real-world entity with state and behavior.\n",
        "\n",
        "\n",
        "    my_car = Car(\"Toyota\")\n",
        "\n",
        ">Encapsulation\n",
        "\n",
        "Hiding internal details and exposing only what’s necessary. Achieved using methods and access control (like private variables).\n",
        "\n",
        ">Inheritance\n",
        "\n",
        "One class (child) can inherit attributes and methods from another (parent). Promotes code reuse.\n",
        "\n",
        "\n",
        "    class ElectricCar(Car):\n",
        "       def charge(self):\n",
        "        print(\"Charging...\")\n",
        "\n",
        ">Polymorphism\n",
        "\n",
        "Different classes can define methods with the same name but different behaviors.\n",
        "\n",
        "      class Dog:\n",
        "          def speak(self):\n",
        "              print(\"Bark\")\n",
        "\n",
        "      class Cat:\n",
        "          def speak(self):\n",
        "              print(\"Meow\")\n",
        "\n",
        ">Abstraction\n",
        "\n",
        "Hiding complex implementation and showing only essential features. Often done via abstract classes or interfaces.\n",
        "\n",
        "> Benefits of OOP:\n",
        "\n",
        "Easier to manage large codebases\n",
        "\n",
        "Promotes reuse and scalability\n",
        "\n",
        "Models real-world systems more naturally"
      ],
      "metadata": {
        "id": "PELOIvUTaMla"
      }
    },
    {
      "cell_type": "markdown",
      "source": [
        "Q.2.What is a class in OOP?\n",
        "\n",
        "In Object-Oriented Programming (OOP), a class is a blueprint or template for creating objects. It defines the attributes (data) and methods (behavior) that the objects created from the class will have.\n",
        "\n",
        ">> Think of a class as:\n",
        "\n",
        "A recipe for making cakes → The class\n",
        "\n",
        "Each cake you bake using the recipe → An object (instance)\n",
        "\n",
        ">> Basic Class Example:\n",
        "\n",
        "    class Person:\n",
        "      def __init__(self, name, age):  # Constructor\n",
        "        self.name = name            # Attribute\n",
        "        self.age = age\n",
        "\n",
        "    def greet(self):                # Method\n",
        "        print(f\"Hello, my name is {self.name}.\")\n",
        "\n",
        ">>Creating an object from a class:\n",
        "\n",
        "    p1 = Person(\"Alice\", 25)\n",
        "    p1.greet()  # Output: Hello, my name is Alice.\n",
        "\n",
        ">>A Class Contains:\n",
        "\n",
        "Attributes: Variables that hold data (self.name, self.age)\n",
        "\n",
        "Methods: Functions that define behavior (greet())\n",
        "\n",
        "Constructor: The __init__ method, which sets up an object when it is created"
      ],
      "metadata": {
        "id": "5jFdCgzDc2PG"
      }
    },
    {
      "cell_type": "markdown",
      "source": [
        "Q.3.What is an object in OOP?\n",
        "\n",
        "In Object-Oriented Programming (OOP), an object is an instance of a class. It is a real-world entity that has:\n",
        "\n",
        "State → represented by attributes (data)\n",
        "\n",
        "Behavior → represented by methods (functions)\n",
        "\n",
        ">> Class vs Object\n",
        "\n",
        "      Concept\tDescription\n",
        "      Class\tA blueprint or template\n",
        "      Object\tA specific instance created from that blueprint\n",
        "\n",
        "    class Car:\n",
        "        def __init__(self, brand, color):\n",
        "            self.brand = brand\n",
        "            self.color = color\n",
        "\n",
        "    def drive(self):\n",
        "        print(f\"The {self.color} {self.brand} is driving.\")\n",
        ">> Creating Objects:\n",
        "\n",
        "\n",
        "    car1 = Car(\"Toyota\", \"Red\")     # Object 1\n",
        "    car2 = Car(\"Honda\", \"Blue\")     # Object 2\n",
        "\n",
        "    car1.drive()  # Output: The Red Toyota is driving.\n",
        "    car2.drive()  # Output: The Blue Honda is driving.\n",
        "Here:\n",
        "\n",
        "car1 and car2 are objects\n",
        "\n",
        "Both are instances of the Car class\n",
        "\n",
        "They each have their own brand and color, but share the same behavior (drive())"
      ],
      "metadata": {
        "id": "KRQtgPOdcDwm"
      }
    },
    {
      "cell_type": "markdown",
      "source": [],
      "metadata": {
        "id": "uvqc2BdCc1PQ"
      }
    },
    {
      "cell_type": "markdown",
      "source": [
        "Q.4.What is the difference between abstraction and encapsulation?\n",
        "\n",
        "The difference between abstraction and encapsulation in Object-Oriented Programming (OOP) lies in what they hide and why:\n",
        "\n",
        ">>Encapsulation – Hiding internal data\n",
        "\n",
        "Definition: Wrapping data (variables) and methods that operate on that data into a single unit (a class) and restricting direct access to some of the object's components.\n",
        "\n",
        "Goal: Protect internal state and enforce controlled access.\n",
        "\n",
        "How: Using private/public access specifiers (like _variable or __variable in Python).\n",
        "\n",
        "\n",
        "    class BankAccount:\n",
        "        def __init__(self, balance):\n",
        "            self.__balance = balance  # Private attribute\n",
        "\n",
        "        def deposit(self, amount):\n",
        "            self.__balance += amount\n",
        "\n",
        "        def get_balance(self):\n",
        "            return self.__balance\n",
        "→ Users can't directly change __balance; they must use deposit() or get_balance().\n",
        "\n",
        ">>> Abstraction – Hiding complex implementation\n",
        "\n",
        "Definition: Showing only essential features and hiding the unnecessary implementation details.\n",
        "\n",
        "Goal: Simplify interface for the user.\n",
        "\n",
        "How: Using abstract classes or interfaces.\n",
        "\n",
        "from abc import ABC, abstractmethod\n",
        "\n",
        "    class Animal(ABC):\n",
        "        @abstractmethod\n",
        "        def make_sound(self):\n",
        "            pass\n",
        "\n",
        "    class Dog(Animal):\n",
        "        def make_sound(self):\n",
        "            print(\"Bark\")\n",
        "\n",
        "    dog = Dog()\n",
        "    dog.make_sound()  # Output: Bark\n",
        "→ The user knows make_sound() exists but doesn't care how it works internally."
      ],
      "metadata": {
        "id": "O2t6AeDleSrQ"
      }
    },
    {
      "cell_type": "markdown",
      "source": [
        "Q.5. What are dunder methods in Python?\n",
        "\n",
        "Dunder methods (short for \"double underscore\" methods) in Python are special methods that begin and end with two underscores (e.g., __init__, __str__, __add__). They're also called magic methods or special methods.\n",
        "\n",
        ">> Purpose of Dunder Methods:\n",
        "\n",
        "They allow you to define how your objects behave with built-in Python operations, like printing, adding, comparing, etc.\n",
        "\n",
        ">> Common Dunder Methods:\n",
        "  \n",
        "    Method\t   Purpose\t                                        Example\n",
        "    __init__\tConstructor, runs when object is created\t   obj = MyClass(5)\n",
        "    __str__\t Defines string representation (print)\t        print(obj)\n",
        "    __repr__\tOfficial string representation (for debugging)\trepr(obj)\n",
        "    __add__\t Defines behavior for + operator\t            obj1 + obj2\n",
        "    __eq__\t Defines equality with ==\t                    obj1 == obj2\n",
        "    __len__\t Returns length\t                               len(obj)\n",
        "    __getitem__\tAccess items using indexing\t               obj[0]\n",
        "\n",
        "class Point:\n",
        "\n",
        "    def __init__(self, x, y):\n",
        "        self.x = x\n",
        "        self.y = y\n",
        "\n",
        "    def __str__(self):\n",
        "        return f\"({self.x}, {self.y})\"\n",
        "\n",
        "    def __add__(self, other):\n",
        "        return Point(self.x + other.x, self.y + other.y)\n",
        "\n",
        "p1 = Point(1, 2)\n",
        "\n",
        "p2 = Point(3, 4)\n",
        "\n",
        "p3 = p1 + p2\n",
        "\n",
        "print(p3)  # Output: (4, 6)\n",
        "\n",
        ">> Why Use Them?\n",
        "\n",
        "Make custom objects behave more like built-in types.\n",
        "\n",
        "Improve readability, usability, and integration with Python syntax."
      ],
      "metadata": {
        "id": "3HNr2TuKhlhq"
      }
    },
    {
      "cell_type": "markdown",
      "source": [],
      "metadata": {
        "id": "7TdZsbvOhaWj"
      }
    },
    {
      "cell_type": "markdown",
      "source": [
        "Q.6.Explain the concept of inheritance in OOP.\n",
        "\n",
        "Inheritance is an Object-Oriented Programming (OOP) concept where one class (child or subclass) inherits the attributes and methods of another class (parent or superclass). It allows code reuse and supports hierarchical relationships between classes.\n",
        "\n",
        ">>Key Benefits of Inheritance:\n",
        "\n",
        "Reusability: Use existing code without rewriting it.\n",
        "\n",
        "Extensibility: Add or override functionality in child classes.\n",
        "\n",
        "Maintainability: Makes updates and maintenance easier.\n",
        "\n",
        "\n",
        "    class Animal:  # Parent class\n",
        "        def speak(self):\n",
        "            print(\"Animal speaks\")\n",
        "\n",
        "    class Dog(Animal):  # Child class\n",
        "        def speak(self):  # Overriding the parent method\n",
        "            print(\"Dog barks\")\n",
        "\n",
        "    dog = Dog()\n",
        "    dog.speak()  # Output: Dog barks\n",
        "\n",
        ">> Types of Inheritance in Python:\n",
        "\n",
        "    Type\t                  Example\n",
        "    Single\t      One child inherits from one parent\n",
        "    Multilevel\t       A → B → C\n",
        "    Multiple\t     A child inherits from multiple parents\n",
        "    Hierarchical\tOne parent → multiple children\n",
        "\n",
        "\n",
        ">> Using super():\n",
        "\n",
        "Allows access to the parent class’s methods inside the child class.\n",
        "\n",
        "\n",
        "    class Animal:\n",
        "        def __init__(self, name):\n",
        "            self.name = name\n",
        "\n",
        "    class Dog(Animal):\n",
        "        def __init__(self, name, breed):\n",
        "            super().__init__(name)  # Call parent constructor\n",
        "            self.breed = breed"
      ],
      "metadata": {
        "id": "T4swa7ytjE1a"
      }
    },
    {
      "cell_type": "markdown",
      "source": [],
      "metadata": {
        "id": "vCqGMn5naEi0"
      }
    },
    {
      "cell_type": "markdown",
      "source": [
        "Q.7.  What is polymorphism in OOP?\n",
        "\n",
        "Polymorphism in Object-Oriented Programming (OOP) means \"many forms\". It allows objects of different classes to be treated through a common interface, typically by using methods with the same name but different behavior depending on the object.\n",
        "\n",
        ">> Why Use Polymorphism?\n",
        "\n",
        "Increases flexibility and reusability\n",
        "\n",
        "Simplifies code by allowing the same method name to behave differently across classes\n",
        "\n",
        "Makes it easy to extend systems without changing existing code\n",
        "\n",
        "> Example: Polymorphism with Method Overriding\n",
        "\n",
        "    class Animal:\n",
        "        def speak(self):\n",
        "            print(\"Animal speaks\")\n",
        "\n",
        "    class Dog(Animal):\n",
        "        def speak(self):\n",
        "            print(\"Dog barks\")\n",
        "\n",
        "    class Cat(Animal):\n",
        "        def speak(self):\n",
        "            print(\"Cat meows\")\n",
        "\n",
        " Using the same method name for different objects\n",
        "\n",
        "animals = [Dog(), Cat()]\n",
        "\n",
        "for animal in animals:\n",
        "\n",
        "    animal.speak()\n",
        "> Output:\n",
        "\n",
        "Dog barks\n",
        "\n",
        "Cat meows\n",
        "\n",
        "Even though we call the same method speak(), it behaves differently depending on the actual class of the object.\n",
        "\n",
        ">> Types of Polymorphism:\n",
        "\n",
        "    Type\t      Description\t                                  Example\n",
        "    Compile-time\tSame method name with different parameters (not native in Python)\tMethod overloading\n",
        "    Run-time\tSame method name, different implementation in subclasses\tMethod overriding\n",
        "\n",
        "\n"
      ],
      "metadata": {
        "id": "tD_9f5CQkiKu"
      }
    },
    {
      "cell_type": "markdown",
      "source": [
        "Q.8.  How is encapsulation achieved in Python?\n",
        "\n",
        "Encapsulation in Python is achieved by restricting direct access to an object’s data and methods, and by grouping related data and behavior into a single class. It helps protect the internal state of an object and ensures that it's modified only through well-defined interfaces (methods).\n",
        "\n",
        ">>Ways to Achieve Encapsulation:\n",
        "\n",
        ">> Using Access Modifiers\n",
        "\n",
        "Python doesn't have true private variables like some languages (e.g., Java), but it uses naming conventions to indicate the intended level of access:\n",
        "\n",
        "\n",
        "    Modifier\t        Syntax Example           Access Level\n",
        "    Public\t          self.name\t          Accessible everywhere\n",
        "    Protected\t        self._name\t      Suggests internal use (not enforced)\n",
        "    Private\t          self.__name\t      Name mangled to prevent direct access\n",
        "\n",
        "    class Person:\n",
        "        def __init__(self, name, age):\n",
        "            self.name = name         # Public\n",
        "            self._age = age          # Protected (convention)\n",
        "            self.__salary = 50000    # Private (name mangled)\n",
        "\n",
        "        def get_salary(self):        # Getter method\n",
        "            return self.__salary\n",
        "\n",
        "        def set_salary(self, amount):  # Setter method\n",
        "            if amount > 0:\n",
        "                self.__salary = amount"
      ],
      "metadata": {
        "id": "9Jjbwqw3mSGl"
      }
    },
    {
      "cell_type": "markdown",
      "source": [
        "Q.9.  What is a constructor in Python?\n",
        "\n",
        "A constructor in Python is a special method used to initialize a new object when it is created from a class. constructor method in Python is name __init__\n",
        "\n",
        ">> Purpose:\n",
        "\n",
        "Set up the initial state of an object (i.e., assign values to attributes).\n",
        "\n",
        "Automatically runs when you create a new instance of a class.\n",
        "\n",
        ">Basic Example:\n",
        "\n",
        "    class Person:\n",
        "        def __init__(self, name, age):  # Constructor\n",
        "            self.name = name\n",
        "            self.age = age\n",
        "\n",
        "    # Creating an object\n",
        "    p1 = Person(\"Alice\", 25)\n",
        "    print(p1.name)  # Output: Alice\n",
        "    print(p1.age)   # Output: 25\n",
        ">> Key Points:\n",
        "\n",
        "    __init__ is automatically called when Person(\"Alice\", 25) is executed.\n",
        "\n",
        "self refers to the instance being created.\n",
        "\n",
        "You can define default values or multiple parameters.\n",
        "\n"
      ],
      "metadata": {
        "id": "iaRcGGzdnN0q"
      }
    },
    {
      "cell_type": "markdown",
      "source": [
        "Q.10.What are class and static methods in Python?\n",
        "\n",
        "In Python, class methods and static methods are special types of methods defined inside a class, but they serve different purposes compared to regular instance methods.\n",
        "\n",
        ">> Class Method (@classmethod)\n",
        "\n",
        "A class method is bound to the class (not the instance) and has access to the class itself, typically used to modify class-level data or create instances in alternative ways.\n",
        "\n",
        "    class MyClass:\n",
        "        count = 0\n",
        "\n",
        "        @classmethod\n",
        "        def show_count(cls):  # 'cls' refers to the class\n",
        "            print(f\"Total: {cls.count}\")\n",
        ">> Static Method (@staticmethod)\n",
        "\n",
        "A static method does not receive the instance (self) or class (cls) as a first argument. It behaves like a regular function inside a class and is used when the method doesn’t need access to class or instance data, but logically belongs to the class.\n",
        "\n",
        "\n",
        "    class MathUtils:\n",
        "        @staticmethod\n",
        "        def add(x, y):\n",
        "            return x + y\n",
        ">> Comparison Table:\n",
        "\n",
        "    Feature\t   Instance Method\t    Class Method\t     Static Method\n",
        "    Decorator\t   None\t              @classmethod\t     @staticmethod\n",
        "    First Argument\tself (object)\tcls (class)\t      No default argument\n",
        "    Accesses self\t Yes\t              No\t                  No\n",
        "    Use Case\tObject-specific logic\tClass-level logic\tUtility/helper functions"
      ],
      "metadata": {
        "id": "7CUXiEpnp1Uv"
      }
    },
    {
      "cell_type": "markdown",
      "source": [
        "Q.11.What is method overloading in Python?\n",
        "\n",
        "Method overloading refers to the ability to define multiple methods with the same name but different parameters (type, number, or order) in the same class.\n",
        "\n",
        ">> In Python:\n",
        "\n",
        "Python does not support method overloading in the traditional way like Java or C++ does.\n",
        "\n",
        "If you define multiple methods with the same name in a class, only the last one will be used, because Python methods are dynamically overwritten.\n",
        "\n",
        ">> How to Simulate Method Overloading in Python:\n",
        "\n",
        "You can achieve method overloading behavior by using:\n",
        "\n",
        "Default parameters\n",
        "\n",
        "*args and **args to accept variable numbers of arguments\n",
        "\n",
        "> Example 1: Using Default Parameters\n",
        "\n",
        "    class Greet:\n",
        "        def hello(self, name=None):\n",
        "            if name:\n",
        "                print(f\"Hello, {name}!\")\n",
        "            else:\n",
        "                print(\"Hello!\")\n",
        "\n",
        "    g = Greet()\n",
        "    g.hello()          # Output: Hello!\n",
        "    g.hello(\"Alice\")   # Output: Hello, Alice!\n",
        "> Example 2: Using *args\n",
        "\n",
        "    class Calculator:\n",
        "        def add(self, *args):\n",
        "            return sum(args)\n",
        "\n",
        "    calc = Calculator()\n",
        "    print(calc.add(2, 3))           # Output: 5\n",
        "    print(calc.add(1, 2, 3, 4))     # Output: 10\n",
        "\n",
        "\n",
        "    Feature\t                 Traditional Overloading\t            Python Approach\n",
        "    Multiple method definitions\t Yes (in Java, C++)\t No (last method wins)\n",
        "    Alternative\t              Not needed\t                    Use default args, *args"
      ],
      "metadata": {
        "id": "Ajg8MpWDrYZH"
      }
    },
    {
      "cell_type": "markdown",
      "source": [
        "Q.12. What is method overriding in OOP?\n",
        "\n",
        "Method overriding is an Object-Oriented Programming (OOP) concept where a subclass (child class) provides a specific implementation of a method that is already defined in its superclass (parent class).\n",
        "\n",
        ">> Purpose:\n",
        "\n",
        "To change or extend the behavior of an inherited method.\n",
        "\n",
        "To implement polymorphism (same method name, different behavior based on object type).\n",
        "\n",
        ">> Rules for Overriding:\n",
        "\n",
        "The method name must be the same.\n",
        "\n",
        "The method must be defined in the parent class.\n",
        "\n",
        "The child class must provide its own version of the method.\n",
        "\n",
        "> Example:\n",
        "\n",
        "    class Animal:\n",
        "        def speak(self):\n",
        "            print(\"Animal makes a sound\")\n",
        "\n",
        "    class Dog(Animal):\n",
        "        def speak(self):  # Overriding the parent's method\n",
        "            print(\"Dog barks\")\n",
        "\n",
        "    dog = Dog()\n",
        "    dog.speak()  # Output: Dog barks\n",
        "    Here, the Dog class overrides the speak() method from Animal.\n",
        "\n",
        ">> Using super() to Call the Parent’s Method:\n",
        "\n",
        "    class Dog(Animal):\n",
        "        def speak(self):\n",
        "            super().speak()  # Call the original method\n",
        "            print(\"Dog barks\")\n",
        "> Output:\n",
        "\n",
        "Animal makes a sound\n",
        "\n",
        "Dog barks\n",
        "\n",
        "> Key Difference from Overloading:\n",
        "\n",
        "    Feature\t              Overloading\t                    Overriding\n",
        "    Same class\t              Yes\t               No (in parent and child classes)\n",
        "    Parameters    \tMust differ (not in Python)\tUsually same (can be changed)\n",
        "    Purpose\t        Define multiple behaviors\tChange inherited behavior"
      ],
      "metadata": {
        "id": "lKaZftd3vTvv"
      }
    },
    {
      "cell_type": "markdown",
      "source": [
        "Q.13. What is a property decorator in Python?\n",
        "\n",
        "The @property decorator in Python is used to define a method as a read-only property, so you can access it like an attribute, while still using method logic under the hood.\n",
        "\n",
        ">> Purpose:\n",
        "\n",
        "\n",
        "Encapsulate getter logic.\n",
        "\n",
        "Provide controlled access to private attributes.\n",
        "\n",
        "Make code cleaner and more Pythonic.\n",
        "\n",
        ">> Basic Example:\n",
        "\n",
        "    class Person:\n",
        "        def __init__(self, name):\n",
        "            self._name = name  # \"Protected\" variable\n",
        "\n",
        "        @property\n",
        "        def name(self):\n",
        "            return self._name\n",
        "\n",
        "    p = Person(\"Alice\")\n",
        "    print(p.name)  # ✅ Accessed like an attribute, not a method\n",
        "Here, p.name looks like an attribute, but it’s actually calling the name() method under the hood.\n",
        "\n",
        ">>Adding Setters with @property:\n",
        "\n",
        "You can also make a property writable using @<property_name>.setter:\n",
        "\n",
        "\n",
        "    class Person:\n",
        "        def __init__(self, name):\n",
        "            self._name = name\n",
        "\n",
        "        @property\n",
        "        def name(self):\n",
        "            return self._name\n",
        "\n",
        "        @name.setter\n",
        "        def name(self, new_name):\n",
        "            if new_name:\n",
        "                self._name = new_name\n",
        "\n",
        "    p = Person(\"Alice\")\n",
        "    p.name = \"Bob\"      # ✅ Setter is called\n",
        "    print(p.name)       # Output: Bob\n",
        ">>Why Use It?\n",
        "\n",
        "Hide internal representation (_name) while exposing a clean API (name)\n",
        "\n",
        "Add validation logic without changing how the property is accessed\n",
        "\n",
        "Improve code readability and maintainability\n",
        "\n"
      ],
      "metadata": {
        "id": "ZkQXpWnYw6Ms"
      }
    },
    {
      "cell_type": "markdown",
      "source": [
        "Q.14.Why is polymorphism important in OOP?\n",
        "\n",
        "Polymorphism plays a central role in Object-Oriented Programming (OOP) by allowing objects of different classes to be treated as if they are instances of the same class. This concept provides flexibility and extendability, making your code more scalable, maintainable, and reusable.\n",
        "\n",
        "Here’s why polymorphism is so important:\n",
        "\n",
        ">> Code Reusability\n",
        "\n",
        "Polymorphism allows you to write code that can work with objects of different types. By using polymorphic methods (e.g., overriding methods in child classes), you can reuse the same method across multiple classes, minimizing duplication.\n",
        "\n",
        "Example:\n",
        "\n",
        "    class Dog:\n",
        "        def speak(self):\n",
        "            return \"Bark\"\n",
        "\n",
        "    class Cat:\n",
        "        def speak(self):\n",
        "            return \"Meow\"\n",
        "\n",
        "    def animal_sound(animal):\n",
        "        print(animal.speak())  # Same method name, different behavior\n",
        "\n",
        " Works with both Dog and Cat objects\n",
        "\n",
        "animal_sound(Dog())  # Output: Bark\n",
        "\n",
        "animal_sound(Cat())  # Output: Meow\n",
        "\n",
        "You don't need to know whether it's a Dog or Cat; you can simply call the speak() method.\n",
        "\n",
        ">> Flexibility and Extensibility\n",
        "\n",
        "Polymorphism makes your code more flexible and extensible. You can add new classes or modify existing ones without changing code that depends on the parent class or common interface.\n",
        "\n",
        "You can create new classes that override existing methods while keeping the same interface, enabling the system to be extended without altering the existing codebase.\n",
        "\n",
        "Example:\n",
        "If you add a new Bird class:\n",
        "\n",
        "\n",
        "    class Bird:\n",
        "        def speak(self):\n",
        "            return \"Chirp\"\n",
        "\n",
        "You don’t need to modify the animal_sound() function, as it works with all animals that have a speak() method.\n",
        "\n",
        ">> Improved Maintainability\n",
        "\n",
        "Polymorphism makes your code easier to maintain because it centralizes changes. For example, when you change an overridden method, you don’t have to search through all references of that method—polymorphism ensures the right method is called for the appropriate object.\n",
        "\n",
        "It promotes loose coupling between objects and systems, meaning that components can evolve independently.\n",
        "\n",
        ">> Enhances Readability and Simplicity\n",
        "\n",
        "By using polymorphism, you can create more intuitive and readable code. You can abstract complex logic behind simple method calls and ensure your code is not cluttered with conditionals for each type of object.\n",
        "\n",
        "Example:\n",
        "\n",
        "    class Shape:\n",
        "        def area(self):\n",
        "            pass\n",
        "\n",
        "    class Circle(Shape):\n",
        "        def area(self):\n",
        "            return 3.14 * self.radius ** 2\n",
        "\n",
        "    class Square(Shape):\n",
        "        def area(self):\n",
        "            return self.side ** 2\n",
        "\n",
        "    def print_area(shape: Shape):\n",
        "        print(shape.area())\n",
        "\n",
        " You can pass any Shape subclass (Circle, Square, etc.)\n",
        "\n",
        "circle = Circle(5)\n",
        "\n",
        "square = Square(4)\n",
        "\n",
        "print_area(circle)  # Output: 78.5\n",
        "\n",
        "print_area(square)  # Output: 16\n",
        "\n",
        "You don't have to worry about the specific type of shape—just call area() and it works for all types of shapes.\n",
        "\n",
        ">> Supports Polymorphic Interfaces (Achieving Polymorphism with Abstract Classes or Interfaces)\n",
        "\n",
        "Polymorphism is often used in conjunction with abstract classes or interfaces (though Python uses abstract base classes or ABCs) to define a common interface that multiple different classes can implement.\n",
        "\n",
        "This enables a polymorphic interface, which ensures that all subclasses implement a specific method (e.g., speak()), while still allowing them to define their own versions of that method."
      ],
      "metadata": {
        "id": "2pbUGmcayezR"
      }
    },
    {
      "cell_type": "markdown",
      "source": [
        "Q.15.What is an abstract class in Python?\n",
        "\n",
        "An abstract class in Python is a class that cannot be instantiated directly. It is designed to be inherited by other classes, and it defines methods that must be implemented by its subclasses. Abstract classes are used to establish a common interface and define abstract methods that subclasses must implement.\n",
        "\n",
        ">> Key Characteristics of an Abstract Class:\n",
        "\n",
        "Cannot be instantiated: You cannot create objects of an abstract class directly.\n",
        "\n",
        "Abstract methods: Abstract methods are methods that are declared in the abstract class but do not have an implementation. Subclasses must provide the actual implementation of these methods.\n",
        "\n",
        "Inheritance: Subclasses of the abstract class must override all abstract methods.\n",
        "\n",
        "> How to Define an Abstract Class:\n",
        "\n",
        "To create an abstract class, you need to:\n",
        "\n",
        "Import ABC (Abstract Base Class) from the abc module.\n",
        "\n",
        "Use the @abstractmethod decorator to mark methods that must be overridden in subclasses.\n",
        "\n",
        "> Example of an Abstract Class:\n",
        "\n",
        "from abc import ABC, abstractmethod\n",
        "\n",
        "> Defining an abstract class\n",
        "\n",
        "    class Animal(ABC):\n",
        "        @abstractmethod\n",
        "        def speak(self):  # Abstract method\n",
        "            pass\n",
        "        \n",
        "        @abstractmethod\n",
        "        def move(self):   # Abstract method\n",
        "            pass\n",
        "\n",
        " Trying to instantiate the abstract class will raise an error:\n",
        "\n",
        "animal = Animal()  # TypeError: Can't instantiate abstract class Animal with abstract methods speak, move\n",
        "\n",
        "Subclass that inherits from Animal\n",
        "\n",
        "    class Dog(Animal):\n",
        "        def speak(self):\n",
        "            return \"Woof\"\n",
        "        \n",
        "        def move(self):\n",
        "            return \"Runs on four legs\"\n",
        "\n",
        "Subclass that also inherits from Animal\n",
        "\n",
        "    class Fish(Animal):\n",
        "        def speak(self):\n",
        "            return \"Blub\"\n",
        "        \n",
        "        def move(self):\n",
        "            return \"Swims in water\"\n",
        "\n",
        " Now you can instantiate the subclasses and use the methods\n",
        "\n",
        "    dog = Dog()\n",
        "\n",
        "    print(dog.speak())  # Output: Woof\n",
        "\n",
        "    print(dog.move())   # Output: Runs on four legs\n",
        "\n",
        "    fish = Fish()\n",
        "    print(fish.speak())  # Output: Blub\n",
        "    print(fish.move())   # Output: Swims in water\n",
        ">> Key Points:\n",
        "\n",
        "Abstract Method: A method marked with @abstractmethod that must be implemented by subclasses. It can have no implementation in the abstract class.\n",
        "\n",
        "Instantiation Restriction: An abstract class cannot be instantiated. It is meant to be inherited by other classes.\n",
        "\n",
        "Enforcing a Common Interface: Abstract classes ensure that all subclasses implement the abstract methods, providing a common interface that can be used across different subclasses.\n",
        "\n",
        ">> Why Use Abstract Classes?\n",
        "\n",
        "Define a Common Interface: Abstract classes provide a blueprint for other classes and enforce consistency in method signatures.\n",
        "\n",
        "Code Reusability: You can define common functionality in the abstract class and let subclasses inherit or override it.\n",
        "\n",
        "Prevent Direct Instantiation: Abstract classes ensure that certain classes are never instantiated, which can be useful for defining general concepts that shouldn't be instantiated directly (like Shape or Animal).\n",
        "\n",
        ">>Summary:\n",
        "\n",
        "    Feature\t                 Abstract Class\n",
        "    Instantiation\t            Cannot instantiate directly\n",
        "    Abstract Methods\t        Must be implemented by subclasses\n",
        "    Purpose\t                 To provide a blueprint for subclasses\n",
        "    Inheritance            \tAllows subclassing with enforced behavior"
      ],
      "metadata": {
        "id": "SjZtb0V78z42"
      }
    },
    {
      "cell_type": "markdown",
      "source": [
        "Q.16. What are the advantages of OOP?\n",
        "\n",
        "Object-Oriented Programming (OOP) provides a powerful way to structure and organize code by modeling real-world entities as objects. It brings several benefits that make software easier to develop, maintain, and scale.\n",
        "\n",
        ">> Modularity\n",
        "\n",
        "Code is organized into classes and objects, which act as self-contained modules.\n",
        "\n",
        "Each class handles its own data and behavior, making the codebase easier to understand and manage.\n",
        "\n",
        ">> Reusability\n",
        "\n",
        "Inheritance allows you to create new classes by reusing code from existing ones.\n",
        "\n",
        "Common logic lives in base classes, reducing duplication.\n",
        "\n",
        "\n",
        "    class Animal:\n",
        "        def eat(self):\n",
        "            print(\"This animal eats food\")\n",
        "\n",
        "    class Dog(Animal):\n",
        "        def bark(self):\n",
        "            print(\"Woof!\")\n",
        ">> Encapsulation\n",
        "\n",
        "Internal data of an object is hidden from outside access and modified only through methods.\n",
        "\n",
        "Prevents unintended interference and ensures better data security.\n",
        "\n",
        "\n",
        "    class BankAccount:\n",
        "        def __init__(self, balance):\n",
        "            self.__balance = balance  # private variable\n",
        "\n",
        "        def deposit(self, amount):\n",
        "            self.__balance += amount\n",
        ">> Polymorphism\n",
        "\n",
        "Different classes can have methods with the same name, allowing them to be used interchangeably.\n",
        "\n",
        "Makes your code more flexible and dynamic.\n",
        "\n",
        "    class Cat:\n",
        "        def speak(self):\n",
        "            print(\"Meow\")\n",
        "\n",
        "    class Dog:\n",
        "        def speak(self):\n",
        "            print(\"Bark\")\n",
        "\n",
        "for animal in [Cat(), Dog()]:\n",
        "\n",
        "    animal.speak()  # Same method name, different behavior\n",
        "\n",
        ">> Scalability and Maintainability\n",
        "\n",
        "OOP makes large projects manageable by allowing teams to work on different classes independently.\n",
        "\n",
        "Well-structured code is easier to update, debug, and scale as requirements grow.\n",
        "\n",
        ">> Abstraction\n",
        "\n",
        "Shows only relevant details and hides complexity.\n",
        "\n",
        "Simplifies interaction with objects through clean and limited interfaces.\n",
        "\n",
        "    class Car:\n",
        "        def start(self):\n",
        "            self.__engine_on = True  # Hidden internal details"
      ],
      "metadata": {
        "id": "bEgprHWlM8S3"
      }
    },
    {
      "cell_type": "markdown",
      "source": [
        "Q.17.What is the difference between a class variable and an instance variable?\n",
        "\n",
        "In Python, both class variables and instance variables are used to store data in objects, but they differ in scope, access, and behavior.\n",
        "\n",
        ">> Instance Variable\n",
        "\n",
        "Defined using self inside the constructor (__init__) or other instance methods.\n",
        "\n",
        "Unique to each object (instance).\n",
        "\n",
        "Changes made to one object’s instance variable do not affect other objects.\n",
        "\n",
        "    class Person:\n",
        "        def __init__(self, name):\n",
        "            self.name = name  # Instance variable\n",
        "\n",
        "    p1 = Person(\"Alice\")\n",
        "    p2 = Person(\"Bob\")\n",
        "    print(p1.name)  # Alice\n",
        "    print(p2.name)  # Bob\n",
        "\n",
        " Class Variable\n",
        "\n",
        "Defined directly inside the class, but outside any methods.\n",
        "\n",
        "Shared across all instances of the class.\n",
        "\n",
        "If one object changes the class variable, it affects all others only if accessed via the class.\n",
        "\n",
        "\n",
        "    class Person:\n",
        "        species = \"Human\"  # Class variable\n",
        "\n",
        "        def __init__(self, name):\n",
        "            self.name = name\n",
        "\n",
        "    p1 = Person(\"Alice\")\n",
        "    p2 = Person(\"Bob\")\n",
        "    print(p1.species)  # Human\n",
        "    print(p2.species)  # Human\n",
        "\n",
        " Change class variable\n",
        "\n",
        "    Person.species = \"Cyborg\"\n",
        "    print(p1.species)  # Cyborg\n",
        "    print(p2.species)  # Cyborg>> Key Differences:\n",
        "\n",
        "    Feature\t              Instance Variable           \tClass Variable\n",
        "    Defined in\tInside methods using self    \tDirectly inside class (no self)\n",
        "    Belongs to\tIndividual object (instance)\t      The class itself\n",
        "    Scope     \tUnique to each instance       \tShared among all instances\n",
        "    Modified by \tself.variable_name\t         ClassName.variable_name\n",
        "    Stored in\tobject.__dict__\t                     ClassName.__dict__"
      ],
      "metadata": {
        "id": "szJvnTzGOCwb"
      }
    },
    {
      "cell_type": "markdown",
      "source": [
        "Q.18. What is multiple inheritance in Python?\n",
        "\n",
        "Multiple inheritance is a feature in Python where a class can inherit from more than one parent class. This allows the subclass to inherit attributes and methods from all its parent classes.\n",
        "\n",
        ">> Syntax:\n",
        "\n",
        "    class Parent1:\n",
        "        def method1(self):\n",
        "            print(\"Method from Parent1\")\n",
        "\n",
        "    class Parent2:\n",
        "        def method2(self):\n",
        "            print(\"Method from Parent2\")\n",
        "\n",
        "    class Child(Parent1, Parent2):  # Inheriting from both\n",
        "        pass\n",
        "\n",
        "    obj = Child()\n",
        "    obj.method1()  # From Parent1\n",
        "    obj.method2()  # From Parent2\n",
        ">> Why Use Multiple Inheritance?\n",
        "\n",
        "Combine functionality from different sources into a single class.\n",
        "\n",
        "Useful when a class needs capabilities from multiple independent classes.\n",
        "\n",
        ">> Caution: Diamond Problem\n",
        "\n",
        "When multiple parent classes inherit from a common ancestor, it can lead to confusion about which method or attribute to use. Python resolves this using the Method Resolution Order (MRO).\n",
        "\n",
        "Example:\n",
        "\n",
        "    class A:\n",
        "        def greet(self):\n",
        "            print(\"Hello from A\")\n",
        "\n",
        "    class B(A):\n",
        "        def greet(self):\n",
        "            print(\"Hello from B\")\n",
        "\n",
        "    class C(A):\n",
        "        def greet(self):\n",
        "            print(\"Hello from C\")\n",
        "\n",
        "    class D(B, C):  # Multiple inheritance\n",
        "        pass\n",
        "\n",
        "    d = D()\n",
        "    d.greet()  # Output: Hello from B (MRO: D → B → C → A)\n",
        "    You can check the MRO with:\n",
        "\n",
        "    print(D.__mro__)\n",
        "\n",
        ">> Summary:\n",
        "\n",
        "    Feature\t                          Description\n",
        "    Multiple Inheritance\tA class inherits from more than one base class\n",
        "    Syntax\t              class Child(Base1, Base2):\n",
        "    Benefits\t            Combines features from multiple sources\n",
        "    Risk\t                Ambiguity in method resolution (handled by MRO)"
      ],
      "metadata": {
        "id": "FVpDpzeLPvRV"
      }
    },
    {
      "cell_type": "markdown",
      "source": [
        "Q.19.Explain the purpose of ‘’__str__’ and ‘__repr__’ ‘ methods in Python.\n",
        "\n",
        "In Python, the __str__ and __repr__ methods are special (or \"magic\") methods used to define how objects of a class are represented as strings. They are particularly useful for debugging, logging, and displaying information to users.\n",
        "\n",
        "    1. __str__(self)\n",
        "Purpose: Defines the \"informal\" or nicely printable string representation of an object.\n",
        "\n",
        "Used by: The built-in str() function and the print() function.\n",
        "\n",
        "Goal: Be readable and user-friendly.\n",
        "\n",
        "Example:\n",
        "\n",
        "    class Person:\n",
        "        def __init__(self, name):\n",
        "            self.name = name\n",
        "        \n",
        "        def __str__(self):\n",
        "            return f\"Person named {self.name}\"\n",
        "\n",
        "      p = Person(\"Alice\")\n",
        "      print(p)            # Output: Person named Alice\n",
        "\n",
        "\n",
        "\n",
        "    2.  __repr__(self)\n",
        "Purpose: Defines the \"official\" or unambiguous string representation of an object.\n",
        "\n",
        "Used by: The built-in repr() function and in the interactive interpreter.\n",
        "\n",
        "Goal: Be unambiguous and, if possible, match the code needed to recreate the object.\n",
        "\n",
        "Example:\n",
        "\n",
        "    class Person:\n",
        "        def __init__(self, name):\n",
        "            self.name = name\n",
        "        \n",
        "        def __repr__(self):\n",
        "            return f\"Person('{self.name}')\"\n",
        "    python\n",
        "    Copy\n",
        "    Edit\n",
        "    p = Person(\"Alice\")\n",
        "    print(repr(p))      # Output: Person('Alice')\n",
        "Key Differences:\n",
        "\n",
        "    Feature\t          __str__                             \t__repr__\n",
        "    Audience\t        End user\t                  Developer\n",
        "    Output goal\t      Readable\t                  Unambiguous\n",
        "    Fallback\t      Used by print()\t        Used by default in interpreter\n",
        "    Priority\tIf __str__ not defined, __repr__ is used by print()"
      ],
      "metadata": {
        "id": "doBVWp2PUhLg"
      }
    },
    {
      "cell_type": "markdown",
      "source": [
        "Q.20.What is the significance of the ‘super()’ function in Python.\n",
        "\n",
        "The super() function in Python is used to give you access to methods and properties of a parent (or superclass) from a child (or subclass). It's especially important in inheritance, allowing for more maintainable and modular code.\n",
        "\n",
        ">> Purpose of super():\n",
        "\n",
        "To call a method from the parent class without explicitly naming it.\n",
        "\n",
        "Useful in method overriding, where you want to extend the behavior of a method from a base class rather than completely replacing it.\n",
        "\n",
        "Helps support multiple inheritance in a consistent and clean way by cooperating with Python's Method Resolution Order (MRO).\n",
        "\n",
        ">> Basic Example:\n",
        "\n",
        "    class Animal:\n",
        "        def __init__(self, name):\n",
        "            self.name = name\n",
        "\n",
        "    class Dog(Animal):\n",
        "        def __init__(self, name, breed):\n",
        "            super().__init__(name)  # Calls Animal's __init__\n",
        "            self.breed = breed\n",
        "Here, super().__init__(name) calls the constructor of the Animal class, so you don’t have to rewrite it in Dog.\n",
        "\n",
        ">> Why use super() instead of calling Animal.__init__() directly?\n",
        "\n",
        "Automatic resolution: Works better with multiple inheritance.\n",
        "\n",
        "Easier to maintain: If you change the parent class name, super() doesn't need updating.\n",
        "\n",
        "Supports cooperative multiple inheritance, where all classes in the hierarchy can call each other properly using super().\n",
        "\n",
        ">> Multiple Inheritance Example:\n",
        "\n",
        "    class A:\n",
        "        def show(self):\n",
        "            print(\"A\")\n",
        "\n",
        "    class B(A):\n",
        "        def show(self):\n",
        "            super().show()\n",
        "            print(\"B\")\n",
        "\n",
        "    class C(B):\n",
        "        def show(self):\n",
        "            super().show()\n",
        "            print(\"C\")\n",
        "\n",
        "    c = C()\n",
        "    c.show()\n",
        "    Output:\n",
        "    A\n",
        "    B\n",
        "    C\n",
        "This shows how super() can chain method calls up the hierarchy."
      ],
      "metadata": {
        "id": "a5URHK-6W_D6"
      }
    },
    {
      "cell_type": "markdown",
      "source": [
        "Q.21.What is the significance of the __del__ method in Python.\n",
        "\n",
        "The __del__ method in Python is a destructor method. It's called when an object is about to be destroyed, typically when there are no more references to it.\n",
        "\n",
        "    >> Purpose of __del__:\n",
        "To clean up resources (like open files or network connections) before an object is removed from memory.\n",
        "\n",
        "Acts similarly to destructors in other languages like C++.\n",
        "\n",
        ">> Example:\n",
        "\n",
        "    class FileHandler:\n",
        "        def __init__(self, filename):\n",
        "            self.file = open(filename, 'w')\n",
        "\n",
        "        def __del__(self):\n",
        "            print(\"Closing file\")\n",
        "            self.file.close()\n",
        "\n",
        "    handler = FileHandler('example.txt')\n",
        "    del handler  # Output: Closing file\n",
        ">> Important Notes:\n",
        "\n",
        "Not guaranteed to run immediately: __del__ is called when the object is garbage collected, which may not happen immediately after del is used (especially in complex programs or when circular references exist).\n",
        "\n",
        "Not reliable for critical cleanup: Python provides better alternatives like:\n",
        "\n",
        "Context managers (with statements)\n",
        "\n",
        "try/finally blocks\n",
        "\n",
        "Can delay garbage collection: If the __del__ method is defined and there's a circular reference, the object might never be collected unless the cycle is broken.\n",
        "\n",
        ">> Best Practice:\n",
        "\n",
        "    Use __del__ sparingly. For resource management, prefer:\n",
        "\n",
        "    with open('example.txt', 'w') as file:\n",
        "        file.write(\"Hello\")\n",
        "This ensures cleanup happens immediately and safely, without relying on __del__."
      ],
      "metadata": {
        "id": "YVyFjHRlYjQH"
      }
    },
    {
      "cell_type": "markdown",
      "source": [
        "Q.22. What is the difference between @staticmethod and @classmethod in Python.\n",
        "\n",
        "In Python, @staticmethod and @classmethod are two decorators that define methods that behave differently from regular instance methods. Here's a clear comparison of their purpose, usage, and key differences:\n",
        "\n",
        ">> @staticmethod\n",
        "\n",
        "Does not take self or cls as the first argument.\n",
        "\n",
        "Behaves like a regular function, but belongs to the class’s namespace.\n",
        "\n",
        "Cannot access or modify class or instance state.\n",
        "\n",
        "Used when the method logic is related to the class, but doesn’t need access to the class or instance itself.\n",
        "\n",
        "✅ Example:\n",
        "\n",
        "    class MathUtils:\n",
        "        @staticmethod\n",
        "        def add(a, b):\n",
        "            return a + b\n",
        "\n",
        "    print(MathUtils.add(3, 5))  # Output: 8\n",
        "\n",
        ">> @classmethod\n",
        "\n",
        "Takes cls as the first argument (referring to the class itself, not an instance).\n",
        "\n",
        "Can access and modify class state.\n",
        "\n",
        "Used for factory methods or when behavior should depend on the class, not on an instance.\n",
        "\n",
        "✅ Example:\n",
        "\n",
        "    class Dog:\n",
        "        species = 'Canine'\n",
        "        \n",
        "        def __init__(self, name):\n",
        "            self.name = name\n",
        "\n",
        "        @classmethod\n",
        "        def from_string(cls, name_str):\n",
        "            return cls(name_str)\n",
        "\n",
        "    d = Dog.from_string(\"Buddy\")\n",
        "    print(d.name)  # Output: Buddy\n",
        "\n",
        ">>Summary Table:\n",
        "\n",
        "    Feature                       \t@staticmethod\t                  @classmethod\n",
        "    First argument                   \tNone\t                        cls (class)\n",
        "    Access to instance?\t               No\t                           No\n",
        "    Access to class?\t                 No\t                           Yes\n",
        "    Use case\t             Utility/helper functions      \tAlternative constructors or class-level logic"
      ],
      "metadata": {
        "id": "QJGK255YaFz0"
      }
    },
    {
      "cell_type": "markdown",
      "source": [
        "Q.23.How does polymorphism work in Python with inheritance.\n",
        "\n",
        "Polymorphism in Python, especially through inheritance, allows objects of different classes to be treated as objects of a common superclass, and it enables the same method name to behave differently depending on the object’s class.\n",
        "\n",
        ">> What Is Polymorphism?\n",
        "\n",
        "Polymorphism means \"many forms.\" In object-oriented programming, it allows the same interface (like a method name) to have different implementations depending on the object.\n",
        "\n",
        ">> How It Works with Inheritance\n",
        "\n",
        "When a base class defines a method, and a subclass overrides it, you can call that method using a reference to the base class—but the subclass’s version will run. This is runtime polymorphism.\n",
        "\n",
        ">> Example:\n",
        "\n",
        "    class Animal:\n",
        "        def speak(self):\n",
        "            return \"Some sound\"\n",
        "\n",
        "    class Dog(Animal):\n",
        "        def speak(self):\n",
        "            return \"Bark\"\n",
        "\n",
        "    class Cat(Animal):\n",
        "        def speak(self):\n",
        "            return \"Meow\"\n",
        "\n",
        "    # Polymorphic behavior\n",
        "    animals = [Dog(), Cat(), Animal()]\n",
        "\n",
        "    for animal in animals:\n",
        "        print(animal.speak())\n",
        "Output:\n",
        "\n",
        "Bark\n",
        "\n",
        "Meow\n",
        "\n",
        "Some sound\n",
        "\n",
        "Even though the loop treats each object as an Animal, the actual class implementation of speak\n",
        "\n",
        ">> Key Points:\n",
        "\n",
        "Python supports dynamic (duck) typing, so polymorphism is very flexible.\n",
        "\n",
        "You don't need interfaces or method declarations like in Java or C#.\n",
        "\n",
        "Useful when writing generic code that works with any subclass of a base class."
      ],
      "metadata": {
        "id": "a0MX0O2ivoCF"
      }
    },
    {
      "cell_type": "markdown",
      "source": [
        "Q.24.What is method chaining in Python OOP.\n",
        "\n",
        "Method chaining is a technique in object-oriented programming where multiple methods are called on the same object in a single line, one after another, by returning self from each method.\n",
        "\n",
        "This makes the code more concise and expressive.\n",
        "\n",
        "✅ Example:\n",
        "\n",
        "    class Person:\n",
        "        def __init__(self, name):\n",
        "            self.name = name\n",
        "            self.age = 0\n",
        "\n",
        "        def set_age(self, age):\n",
        "            self.age = age\n",
        "            return self  # Enables chaining\n",
        "\n",
        "        def greet(self):\n",
        "            print(f\"Hi, I'm {self.name} and I'm {self.age} years old.\")\n",
        "            return self  # Enables further chaining\n",
        "\n",
        "    # Method chaining\n",
        "    p = Person(\"Alice\").set_age(30).greet()\n",
        "\n",
        "    Output:\n",
        "\n",
        "    Hi, I'm Alice and I'm 30 years old.\n",
        "\n",
        ">> Why Use Method Chaining?\n",
        "\n",
        "> Cleaner, more readable code\n",
        "\n",
        "> Fewer lines for fluent configuration/setup\n",
        "\n",
        "> Common in builder patterns or APIs (e.g., pandas, SQLAlchemy)\n",
        "\n",
        ">> Important Note:\n",
        "\n",
        "To enable method chaining:\n",
        "\n",
        "Each method must return self (or another object you want to chain)."
      ],
      "metadata": {
        "id": "cieJVVfnwoB5"
      }
    },
    {
      "cell_type": "markdown",
      "source": [
        "Q.25.What is the purpose of the __call__ method in Python.\n",
        "\n",
        "The __call__ method in Python allows an instance of a class to be called like a function. If a class defines __call__, you can use its object as if it were a function.\n",
        "\n",
        ">> Purpose of __call__:\n",
        "\n",
        "To make an object behave like a function\n",
        "\n",
        "Enables function-object hybrids (useful in decorators, callbacks, machine learning models, etc.)\n",
        "\n",
        "Helps make code more concise and intuitive in certain contexts\n",
        "\n",
        ">> Basic Example:\n",
        "\n",
        "    class Greeter:\n",
        "        def __init__(self, name):\n",
        "            self.name = name\n",
        "\n",
        "        def __call__(self, greeting):\n",
        "            return f\"{greeting}, {self.name}!\"\n",
        "\n",
        "    g = Greeter(\"Alice\")\n",
        "    print(g(\"Hello\"))   # Output: Hello, Alice!\n",
        "    Here, g(\"Hello\") is valid because Greeter defines __call__.\n",
        "\n",
        ">> Practical Use Cases:\n",
        "\n",
        "Function wrappers/decorators\n",
        "\n",
        "Machine learning models (e.g., model(input) in PyTorch/TensorFlow)\n",
        "\n",
        "Custom callable objects where state needs to be retained across calls"
      ],
      "metadata": {
        "id": "Kh0-_fIezFDf"
      }
    },
    {
      "cell_type": "markdown",
      "source": [],
      "metadata": {
        "id": "pmUt2HidzDjG"
      }
    },
    {
      "cell_type": "markdown",
      "source": [
        "#Practical Questions"
      ],
      "metadata": {
        "id": "_7acAy2A1QzC"
      }
    },
    {
      "cell_type": "code",
      "source": [
        "#Q.1. Create a parent class Animal with a method speak() that prints a generic message. Create a child class Dog that overrides the speak() method to print \"Bark!\".\n",
        "\n",
        "# parent class\n",
        "class Animal:\n",
        "  def speak(self):\n",
        "    print(\"The animal makes a sound.\")\n",
        "\n",
        "\n",
        "#child class\n",
        "class Dog(Animal):\n",
        "  def speak(self):\n",
        "    print(\"Bark\")"
      ],
      "metadata": {
        "id": "-Jyek1x11cW5"
      },
      "execution_count": null,
      "outputs": []
    },
    {
      "cell_type": "code",
      "source": [
        "#Testing the class\n",
        "a=Animal()\n",
        "a.speak()"
      ],
      "metadata": {
        "colab": {
          "base_uri": "https://localhost:8080/"
        },
        "id": "Rx-Y4RO62u6S",
        "outputId": "bf432076-7532-4a52-f37a-69e2fd0978cc"
      },
      "execution_count": null,
      "outputs": [
        {
          "output_type": "stream",
          "name": "stdout",
          "text": [
            "The animal makes a sound.\n"
          ]
        }
      ]
    },
    {
      "cell_type": "code",
      "source": [
        "d=Dog()\n",
        "d.speak()"
      ],
      "metadata": {
        "colab": {
          "base_uri": "https://localhost:8080/"
        },
        "id": "BcJKZPd_3M_l",
        "outputId": "1e1bd6e5-b399-4655-f332-1902e1f62a94"
      },
      "execution_count": null,
      "outputs": [
        {
          "output_type": "stream",
          "name": "stdout",
          "text": [
            "Bark\n"
          ]
        }
      ]
    },
    {
      "cell_type": "code",
      "source": [
        "#Q.2. Write a program to create an abstract class Shape with a method area(). Derive classes Circle and Rectangle from it and implement the area() method in both.\n",
        "\n",
        "#abstract base class\n",
        "from abc import ABC, abstractmethod\n",
        "\n",
        "class shape(ABC):\n",
        "  @abstractmethod\n",
        "  def area(self):\n",
        "    pass\n",
        "\n",
        "#subclass for circle\n",
        "class circle(shape):\n",
        "  def __init__(self,redious):\n",
        "    self.redious=redious\n",
        "\n",
        "  def area(self):\n",
        "    return 3.14*self.redious*self.redious\n",
        "\n",
        "\n",
        "#subclass for rectangle\n",
        "class rectangle(shape):\n",
        "  def __init__(self,length,width):\n",
        "    self.length=length\n",
        "    self.width=width\n",
        "\n",
        "  def area(self):\n",
        "    return self.length*self.width\n",
        "\n",
        "\n",
        "\n",
        "\n",
        "\n"
      ],
      "metadata": {
        "id": "dat2WUcm3YBh"
      },
      "execution_count": null,
      "outputs": []
    },
    {
      "cell_type": "code",
      "source": [
        "c=circle(5)\n",
        "r= rectangle(4, 6)\n",
        "print(f\"Area of circle: {c.area():.2f}\")\n",
        "print(f\"Area of rectangle: {r.area():.2f}\")"
      ],
      "metadata": {
        "colab": {
          "base_uri": "https://localhost:8080/"
        },
        "id": "-wUejrM67nYH",
        "outputId": "aca8cd91-37e2-4b63-c42a-4494571d1678"
      },
      "execution_count": null,
      "outputs": [
        {
          "output_type": "stream",
          "name": "stdout",
          "text": [
            "Area of circle: 78.50\n",
            "Area of rectangle: 24.00\n"
          ]
        }
      ]
    },
    {
      "cell_type": "code",
      "source": [
        "#Q.3. Implement a multi-level inheritance scenario where a class Vehicle has an attribute type. Derive a class Car and further derive a class ElectricCar that adds a battery attribute\n",
        "\n",
        "# Base class\n",
        "class Vehicle:\n",
        "    def __init__(self, vehicle_type):\n",
        "        self.type = vehicle_type\n",
        "\n",
        "    def show_type(self):\n",
        "        print(f\"Vehicle type: {self.type}\")\n",
        "\n",
        "# Derived class\n",
        "class Car(Vehicle):\n",
        "    def __init__(self, vehicle_type, brand):\n",
        "        super().__init__(vehicle_type)\n",
        "        self.brand = brand\n",
        "\n",
        "    def show_brand(self):\n",
        "        print(f\"Car brand: {self.brand}\")\n",
        "\n",
        "# Further derived class\n",
        "class ElectricCar(Car):\n",
        "    def __init__(self, vehicle_type, brand, battery):\n",
        "        super().__init__(vehicle_type, brand)\n",
        "        self.battery = battery\n",
        "\n",
        "    def show_battery(self):\n",
        "        print(f\"Battery capacity: {self.battery} kWh\")\n",
        "# Test the classes\n",
        "e_car = ElectricCar(\"Four Wheeler\", \"Tesla\", 75)\n",
        "e_car.show_type()       # Output: Vehicle type: Four Wheeler\n",
        "e_car.show_brand()      # Output: Car brand: Tesla\n",
        "e_car.show_battery()    # Output: Battery capacity: 75 kWh\n",
        "\n"
      ],
      "metadata": {
        "id": "uH6vpxL58fbP"
      },
      "execution_count": null,
      "outputs": []
    },
    {
      "cell_type": "code",
      "source": [
        "#Q.4. Demonstrate polymorphism by creating a base class Bird with a method fly(). Create two derived classes Sparrow and Penguin that override the fly() method.\n",
        "\n",
        "class bird:\n",
        "  def fly(self):\n",
        "    print(\"bird can fly\")\n",
        "\n",
        "class sparrow(bird):\n",
        "  def fly(self):\n",
        "    print(\"Sparrow can fly higher\")\n",
        "\n",
        "class penguin(bird):\n",
        "  def fly(self):\n",
        "    print(\"penguin can not fly but swimme\")\n",
        "\n",
        "def bird_fly_test(bird):\n",
        "  bird.fly()\n",
        "\n",
        "sparrow = sparrow()\n",
        "penguin = penguin()\n",
        "\n",
        "bird_fly_test(sparrow)\n",
        "bird_fly_test(penguin)"
      ],
      "metadata": {
        "colab": {
          "base_uri": "https://localhost:8080/"
        },
        "id": "Xq_Z3tVsIWcA",
        "outputId": "82af3691-a0cd-4416-92c5-d9d9395c9522"
      },
      "execution_count": null,
      "outputs": [
        {
          "output_type": "stream",
          "name": "stdout",
          "text": [
            "Sparrow can fly higher\n",
            "penguin can not fly but swimme\n"
          ]
        }
      ]
    },
    {
      "cell_type": "code",
      "source": [
        "#Q.5. Write a program to demonstrate encapsulation by creating a class BankAccount with private attributes balance and methods to deposit, withdraw, and check balance.\n",
        "\n",
        "class BankAccount:\n",
        "    def __init__(self, initial_balance=0):\n",
        "        self.__balance = initial_balance  # Private attribute\n",
        "\n",
        "    def deposit(self, amount):\n",
        "        if amount > 0:\n",
        "            self.__balance += amount\n",
        "            print(f\"Deposited: ${amount}\")\n",
        "        else:\n",
        "            print(\"Invalid deposit amount.\")\n",
        "\n",
        "    def withdraw(self, amount):\n",
        "        if 0 < amount <= self.__balance:\n",
        "            self.__balance -= amount\n",
        "            print(f\"Withdrew: ${amount}\")\n",
        "        else:\n",
        "            print(\"Insufficient balance or invalid amount.\")\n",
        "\n",
        "    def check_balance(self):\n",
        "        print(f\"Current balance: ${self.__balance}\")\n",
        "\n",
        "# Test the BankAccount class\n",
        "account = BankAccount(100)\n",
        "account.check_balance()      # Output: Current balance: $100\n",
        "account.deposit(50)          # Output: Deposited: $50\n",
        "account.withdraw(30)         # Output: Withdrew: $30\n",
        "account.check_balance()      # Output: Current balance: $120\n",
        "\n",
        "\n",
        "\n",
        "\n"
      ],
      "metadata": {
        "id": "1Cby0oCALKPb",
        "colab": {
          "base_uri": "https://localhost:8080/"
        },
        "outputId": "84c52284-75cf-40da-8cd9-7d172b7e51cd"
      },
      "execution_count": null,
      "outputs": [
        {
          "output_type": "stream",
          "name": "stdout",
          "text": [
            "Current balance: $100\n",
            "Deposited: $50\n",
            "Withdrew: $30\n",
            "Current balance: $120\n"
          ]
        }
      ]
    },
    {
      "cell_type": "code",
      "source": [
        "#Q.6.  Demonstrate runtime polymorphism using a method play() in a base class Instrument. Derive classes Guitar and Piano that implement their own version of play().\n",
        "\n",
        "# Base class\n",
        "class Instrument:\n",
        "    def play(self):\n",
        "        print(\"Playing an instrument.\")\n",
        "\n",
        "# Derived class\n",
        "class Guitar(Instrument):\n",
        "    def play(self):\n",
        "        print(\"Strumming the guitar.\")\n",
        "\n",
        "# Derived class\n",
        "class Piano(Instrument):\n",
        "    def play(self):\n",
        "        print(\"Playing the piano.\")\n",
        "\n",
        "# Function demonstrating runtime polymorphism\n",
        "def play_instrument(instrument: Instrument):\n",
        "    instrument.play()  # Calls the appropriate overridden method\n",
        "\n",
        "# Main logic\n",
        "guitar = Guitar()\n",
        "piano = Piano()\n",
        "\n",
        "play_instrument(guitar)  # Output: Strumming the guitar.\n",
        "play_instrument(piano)   # Output: Playing the piano.\n",
        "\n"
      ],
      "metadata": {
        "colab": {
          "base_uri": "https://localhost:8080/"
        },
        "id": "Ikk-wn6HkkLS",
        "outputId": "20438c57-71e4-4574-9605-ed9f2ac03f68"
      },
      "execution_count": null,
      "outputs": [
        {
          "output_type": "stream",
          "name": "stdout",
          "text": [
            "Strumming the guitar.\n",
            "Playing the piano.\n"
          ]
        }
      ]
    },
    {
      "cell_type": "code",
      "source": [
        "#Q.7. Create a class MathOperations with a class method add_numbers() to add two numbers and a static method subtract_numbers() to subtract two numbers.\n",
        "\n",
        "\n",
        "class MathOperations:\n",
        "    @classmethod\n",
        "    def add_numbers(cls, a, b):\n",
        "        return a + b\n",
        "\n",
        "    @staticmethod\n",
        "    def subtract_numbers(a, b):\n",
        "        return a - b\n",
        "\n",
        "# Example usage:\n",
        "print(\"Addition:\", MathOperations.add_numbers(10, 5))     # Output: 15\n",
        "print(\"Subtraction:\", MathOperations.subtract_numbers(10, 5))  # Output: 5\n"
      ],
      "metadata": {
        "colab": {
          "base_uri": "https://localhost:8080/"
        },
        "id": "3UXFETp3rIwk",
        "outputId": "855b08c9-716d-4463-c636-8fe22d118464"
      },
      "execution_count": null,
      "outputs": [
        {
          "output_type": "stream",
          "name": "stdout",
          "text": [
            "Addition: 15\n",
            "Subtraction: 5\n"
          ]
        }
      ]
    },
    {
      "cell_type": "code",
      "source": [
        "#Q.8. Implement a class Person with a class method to count the total number of persons created.\n",
        "\n",
        "class Person:\n",
        "    count = 0  # Class variable to track number of persons\n",
        "\n",
        "    def __init__(self, name):\n",
        "        self.name = name\n",
        "        Person.count += 1  # Increment count whenever a new person is created\n",
        "\n",
        "    @classmethod\n",
        "    def total_persons(cls):\n",
        "        return cls.count\n",
        "\n",
        "# Creating instances\n",
        "p1 = Person(\"Alice\")\n",
        "p2 = Person(\"Bob\")\n",
        "p3 = Person(\"Charlie\")\n",
        "\n",
        "# Accessing total number of persons created\n",
        "print(\"Total persons created:\", Person.total_persons())  # Output: 3\n"
      ],
      "metadata": {
        "colab": {
          "base_uri": "https://localhost:8080/"
        },
        "id": "Y4U2JqVOu--H",
        "outputId": "b0072229-7265-4c31-d434-0d28820a12a6"
      },
      "execution_count": null,
      "outputs": [
        {
          "output_type": "stream",
          "name": "stdout",
          "text": [
            "Total persons created: 3\n"
          ]
        }
      ]
    },
    {
      "cell_type": "code",
      "source": [
        "#Q.9. Write a class Fraction with attributes numerator and denominator. Override the str method to display the fraction as \"numerator/denominator\".\n",
        "\n",
        "class fraction:\n",
        "  def __init__(self,numerator,denominator):\n",
        "    self.numerator=numerator\n",
        "    self.denominator=denominator\n",
        "\n",
        "  def __str__(self):\n",
        "    return f\"{self.numerator}/{self.denominator}\"\n",
        "\n",
        "f1=fraction(3,4)\n",
        "f2=fraction(6,7)\n",
        "print(f1)\n",
        "print(f2)"
      ],
      "metadata": {
        "id": "2yhZJ25zvrFB",
        "colab": {
          "base_uri": "https://localhost:8080/"
        },
        "outputId": "d54bd092-b3fe-4897-ac58-b0d24fe71df8"
      },
      "execution_count": null,
      "outputs": [
        {
          "output_type": "stream",
          "name": "stdout",
          "text": [
            "3/4\n",
            "6/7\n"
          ]
        }
      ]
    },
    {
      "cell_type": "code",
      "source": [
        "#Q.10. Demonstrate operator overloading by creating a class Vector and overriding the add method to add two vectors.\n",
        "\n",
        "class vector:\n",
        "  def __init__(self,x,y):\n",
        "    self.x=x\n",
        "    self.y=y\n",
        "\n",
        "  def __add__(self,other):\n",
        "    return vector(self.x+other.x, self.y+other.y)\n",
        "\n",
        "  def __str__(self):\n",
        "    return f\"vector({self.x},{self.y})\"\n",
        "\n",
        "v1=vector(5,8)\n",
        "v2=vector(5,7)\n",
        "v3=v1+v2\n",
        "\n",
        "print(v3)\n"
      ],
      "metadata": {
        "colab": {
          "base_uri": "https://localhost:8080/"
        },
        "id": "uI_pW3UdB7up",
        "outputId": "56ab820c-6271-4f52-f10e-766036c66ec9"
      },
      "execution_count": null,
      "outputs": [
        {
          "output_type": "stream",
          "name": "stdout",
          "text": [
            "vector(10,15)\n"
          ]
        }
      ]
    },
    {
      "cell_type": "code",
      "source": [
        "#Q.11. Create a class Person with attributes name and age. Add a method greet() that prints \"Hello, my name is {name} and I am {age} years old.\"\n",
        "\n",
        "class person:\n",
        "  def __init__(self,name,age):\n",
        "    self.name=name\n",
        "    self.age=age\n",
        "\n",
        "  def greet(self):\n",
        "    print(f\"Hello my name is {self.name}, and I am {self.age} years old.\")\n",
        "\n",
        "p1=person(\"Dev\", 38)\n",
        "p1.greet()\n"
      ],
      "metadata": {
        "colab": {
          "base_uri": "https://localhost:8080/"
        },
        "id": "G94xv8QgH2pG",
        "outputId": "ec06e3d8-96fd-427d-c091-0f2bff7ba789"
      },
      "execution_count": null,
      "outputs": [
        {
          "output_type": "stream",
          "name": "stdout",
          "text": [
            "Hello my name is Dev, and I am 38 years old.\n"
          ]
        }
      ]
    },
    {
      "cell_type": "code",
      "source": [
        "#Q.12. Implement a class Student with attributes name and grades. Create a method average_grade() to compute the average of the grades.\n",
        "\n",
        "class student:\n",
        "  def __init__(self,name,grades):\n",
        "    self.name=name\n",
        "    self.grades=grades\n",
        "\n",
        "  def average_grade(self):\n",
        "      if not self.grades:\n",
        "        return 0\n",
        "      return sum (self.grades)/len(self.grades)\n",
        "s1=student(\"Dev\",[85,90,78,92])\n",
        "print(f\"{s1.name}'s average grade is {s1.average_grade():.2f}\")\n",
        ""
      ],
      "metadata": {
        "id": "vAVBzFZhNGjP",
        "colab": {
          "base_uri": "https://localhost:8080/"
        },
        "outputId": "1c699435-3702-4561-ae1d-bc09590c61b5"
      },
      "execution_count": 11,
      "outputs": [
        {
          "output_type": "stream",
          "name": "stdout",
          "text": [
            "Dev's average grade is 86.25\n"
          ]
        }
      ]
    },
    {
      "cell_type": "code",
      "source": [
        "#Q.13. Create a class Rectangle with methods set_dimensions() to set the dimensions and area() to calculate the area.\n",
        "\n",
        "class rectangle:\n",
        "  def __init__(self):\n",
        "    self.length=0\n",
        "    self.width=0\n",
        "\n",
        "  def set_dimensions(self,length,width):\n",
        "    self.length=length\n",
        "    self.width=width\n",
        "\n",
        "  def area(self):\n",
        "    return self.length*self.width\n",
        "\n",
        "r1=rectangle()\n",
        "r1.set_dimensions(5,8)\n",
        "print(f\"Area of rectangle is {r1.area()}\")"
      ],
      "metadata": {
        "colab": {
          "base_uri": "https://localhost:8080/"
        },
        "id": "jgguMv4awTc9",
        "outputId": "76e4c815-f154-43f8-836b-c66898a53f73"
      },
      "execution_count": 12,
      "outputs": [
        {
          "output_type": "stream",
          "name": "stdout",
          "text": [
            "Area of rectangle is 40\n"
          ]
        }
      ]
    },
    {
      "cell_type": "code",
      "source": [
        "#Q.14. Create a class Employee with a method calculate_salary() that computes the salary based on hours worked and hourly rate. Create a derived class Manager that adds a bonus to the salary.\n",
        "\n",
        "# Base class\n",
        "class Employee:\n",
        "    def __init__(self, name, hours_worked, hourly_rate):\n",
        "        self.name = name\n",
        "        self.hours_worked = hours_worked\n",
        "        self.hourly_rate = hourly_rate\n",
        "\n",
        "    def calculate_salary(self):\n",
        "        salary = self.hours_worked * self.hourly_rate\n",
        "        return salary\n",
        "\n",
        "# Derived class\n",
        "class Manager(Employee):\n",
        "    def __init__(self, name, hours_worked, hourly_rate, bonus):\n",
        "        super().__init__(name, hours_worked, hourly_rate)\n",
        "        self.bonus = bonus\n",
        "\n",
        "    def calculate_salary(self):\n",
        "        base_salary = super().calculate_salary()\n",
        "        total_salary = base_salary + self.bonus\n",
        "        return total_salary\n",
        "\n",
        "# Example usage\n",
        "emp = Employee(\"John\", 40, 25)\n",
        "print(f\"{emp.name}'s salary: ${emp.calculate_salary()}\")\n",
        "\n",
        "mgr = Manager(\"Alice\", 40, 30, 500)\n",
        "print(f\"{mgr.name}'s salary with bonus: ${mgr.calculate_salary()}\")\n"
      ],
      "metadata": {
        "colab": {
          "base_uri": "https://localhost:8080/"
        },
        "id": "Bwen6_T68h8e",
        "outputId": "a4f3b5f1-04ab-4f1e-8b56-5b495a874a73"
      },
      "execution_count": 1,
      "outputs": [
        {
          "output_type": "stream",
          "name": "stdout",
          "text": [
            "John's salary: $1000\n",
            "Alice's salary with bonus: $1700\n"
          ]
        }
      ]
    },
    {
      "cell_type": "code",
      "source": [
        "#Q.15. Create a class Product with attributes name, price, and quantity. Implement a method total_price() that calculates the total price of the product.\n",
        "\n",
        "class Product:\n",
        "    def __init__(self, name, price, quantity):\n",
        "        self.name = name\n",
        "        self.price = price\n",
        "        self.quantity = quantity\n",
        "\n",
        "    def total_price(self):\n",
        "        return self.price * self.quantity\n",
        "\n",
        "# Example usage\n",
        "item = Product(\"Laptop\", 750, 3)\n",
        "print(f\"Total price for {item.name}s: ${item.total_price()}\")\n"
      ],
      "metadata": {
        "colab": {
          "base_uri": "https://localhost:8080/"
        },
        "id": "UEdaM_VZ5jPk",
        "outputId": "be2c74c1-5ce2-46f5-95ba-ca4049b4d887"
      },
      "execution_count": 2,
      "outputs": [
        {
          "output_type": "stream",
          "name": "stdout",
          "text": [
            "Total price for Laptops: $2250\n"
          ]
        }
      ]
    },
    {
      "cell_type": "code",
      "source": [
        "#Q.16. Create a class Animal with an abstract method sound(). Create two derived classes Cow and Sheep that implement the sound() method.\n",
        "\n",
        "from abc import ABC, abstractmethod\n",
        "\n",
        "# Abstract base class\n",
        "class Animal(ABC):\n",
        "    @abstractmethod\n",
        "    def sound(self):\n",
        "        pass\n",
        "\n",
        "# Derived class Cow\n",
        "class Cow(Animal):\n",
        "    def sound(self):\n",
        "        return \"Moo\"\n",
        "\n",
        "# Derived class Sheep\n",
        "class Sheep(Animal):\n",
        "    def sound(self):\n",
        "        return \"Baa\"\n",
        "\n",
        "# Example usage\n",
        "cow = Cow()\n",
        "sheep = Sheep()\n",
        "\n",
        "print(f\"Cow says: {cow.sound()}\")\n",
        "print(f\"Sheep says: {sheep.sound()}\")\n"
      ],
      "metadata": {
        "colab": {
          "base_uri": "https://localhost:8080/"
        },
        "id": "SSdEFeQQ6A0p",
        "outputId": "1777efa8-3771-4fb8-e5ee-e7d8d9e6ae23"
      },
      "execution_count": 3,
      "outputs": [
        {
          "output_type": "stream",
          "name": "stdout",
          "text": [
            "Cow says: Moo\n",
            "Sheep says: Baa\n"
          ]
        }
      ]
    },
    {
      "cell_type": "code",
      "source": [
        "#Q.17. Create a class Book with attributes title, author, and year_published. Add a method get_book_info() that returns a formatted string with the book's details.\n",
        "\n",
        "class Book:\n",
        "    def __init__(self, title, author, year_published):\n",
        "        self.title = title\n",
        "        self.author = author\n",
        "        self.year_published = year_published\n",
        "\n",
        "    def get_book_info(self):\n",
        "        return f\"'{self.title}' by {self.author}, published in {self.year_published}.\"\n",
        "\n",
        "# Example usage\n",
        "book1 = Book(\"To Kill a Mockingbird\", \"Harper Lee\", 1960)\n",
        "print(book1.get_book_info())\n",
        "\n"
      ],
      "metadata": {
        "colab": {
          "base_uri": "https://localhost:8080/"
        },
        "id": "AA_Dpmpl6VtI",
        "outputId": "8c05f175-1f6a-498c-b69d-5f230a0c5786"
      },
      "execution_count": 4,
      "outputs": [
        {
          "output_type": "stream",
          "name": "stdout",
          "text": [
            "'To Kill a Mockingbird' by Harper Lee, published in 1960.\n"
          ]
        }
      ]
    },
    {
      "cell_type": "code",
      "source": [
        "#Q.17. Create a class Book with attributes title, author, and year_published. Add a method get_book_info() that returns a formatted string with the book's details.\n",
        "\n",
        "class Book:\n",
        "    def __init__(self, title, author, year_published):\n",
        "        self.title = title\n",
        "        self.author = author\n",
        "        self.year_published = year_published\n",
        "\n",
        "    def get_book_info(self):\n",
        "        return f\"'{self.title}' by {self.author}, published in {self.year_published}.\"\n",
        "\n",
        "# Example usage\n",
        "book1 = Book(\"To Kill a Mockingbird\", \"Harper Lee\", 1960)\n",
        "print(book1.get_book_info())\n"
      ],
      "metadata": {
        "colab": {
          "base_uri": "https://localhost:8080/"
        },
        "id": "O0Yd4uMI6zdf",
        "outputId": "b50e1a27-a7b8-41c6-f740-8155ed9840e8"
      },
      "execution_count": 5,
      "outputs": [
        {
          "output_type": "stream",
          "name": "stdout",
          "text": [
            "'To Kill a Mockingbird' by Harper Lee, published in 1960.\n"
          ]
        }
      ]
    },
    {
      "cell_type": "code",
      "source": [
        "#Q.18. Create a class House with attributes address and price. Create a derived class Mansion that adds an attribute number_of_rooms.\n",
        "\n",
        "# Base class\n",
        "class House:\n",
        "    def __init__(self, address, price):\n",
        "        self.address = address\n",
        "        self.price = price\n",
        "\n",
        "# Derived class\n",
        "class Mansion(House):\n",
        "    def __init__(self, address, price, number_of_rooms):\n",
        "        super().__init__(address, price)  # Initialize attributes from House\n",
        "        self.number_of_rooms = number_of_rooms\n",
        "\n",
        "# Example usage\n",
        "house = House(\"123 Main St\", 250000)\n",
        "mansion = Mansion(\"456 Luxury Ln\", 2000000, 12)\n",
        "\n",
        "print(f\"House located at {house.address}, priced at ${house.price}\")\n",
        "print(f\"Mansion located at {mansion.address}, priced at ${mansion.price}, with {mansion.number_of_rooms} rooms\")\n"
      ],
      "metadata": {
        "colab": {
          "base_uri": "https://localhost:8080/"
        },
        "id": "0c8Ysdfu-lRS",
        "outputId": "f2cf43a3-9892-434f-9190-d4b101da9256"
      },
      "execution_count": 6,
      "outputs": [
        {
          "output_type": "stream",
          "name": "stdout",
          "text": [
            "House located at 123 Main St, priced at $250000\n",
            "Mansion located at 456 Luxury Ln, priced at $2000000, with 12 rooms\n"
          ]
        }
      ]
    },
    {
      "cell_type": "code",
      "source": [],
      "metadata": {
        "id": "5g3cWbTl-9EO"
      },
      "execution_count": null,
      "outputs": []
    }
  ]
}